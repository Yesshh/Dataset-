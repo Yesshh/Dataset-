{
  "nbformat": 4,
  "nbformat_minor": 0,
  "metadata": {
    "colab": {
      "name": "Brain Tumor MP.ipynb",
      "provenance": [],
      "authorship_tag": "ABX9TyM8QRk1LitcsyhSJG2NRL1f",
      "include_colab_link": true
    },
    "kernelspec": {
      "name": "python3",
      "display_name": "Python 3"
    },
    "language_info": {
      "name": "python"
    },
    "accelerator": "GPU"
  },
  "cells": [
    {
      "cell_type": "markdown",
      "metadata": {
        "id": "view-in-github",
        "colab_type": "text"
      },
      "source": [
        "<a href=\"https://colab.research.google.com/github/Yesshh/Dataset-/blob/main/Brain_Tumor_MP.ipynb\" target=\"_parent\"><img src=\"https://colab.research.google.com/assets/colab-badge.svg\" alt=\"Open In Colab\"/></a>"
      ]
    },
    {
      "cell_type": "code",
      "execution_count": 1,
      "metadata": {
        "id": "tjKoVoRW8fvX"
      },
      "outputs": [],
      "source": [
        "import warnings\n",
        "warnings.filterwarnings('ignore')"
      ]
    },
    {
      "cell_type": "code",
      "source": [
        "!pip install opendatasets"
      ],
      "metadata": {
        "colab": {
          "base_uri": "https://localhost:8080/"
        },
        "id": "_exPMl8C8zIR",
        "outputId": "0a7cd5ce-4474-4812-c483-43d618d29feb"
      },
      "execution_count": 2,
      "outputs": [
        {
          "output_type": "stream",
          "name": "stdout",
          "text": [
            "Collecting opendatasets\n",
            "  Downloading opendatasets-0.1.22-py3-none-any.whl (15 kB)\n",
            "Requirement already satisfied: click in /usr/local/lib/python3.7/dist-packages (from opendatasets) (7.1.2)\n",
            "Requirement already satisfied: tqdm in /usr/local/lib/python3.7/dist-packages (from opendatasets) (4.64.0)\n",
            "Requirement already satisfied: kaggle in /usr/local/lib/python3.7/dist-packages (from opendatasets) (1.5.12)\n",
            "Requirement already satisfied: urllib3 in /usr/local/lib/python3.7/dist-packages (from kaggle->opendatasets) (1.24.3)\n",
            "Requirement already satisfied: requests in /usr/local/lib/python3.7/dist-packages (from kaggle->opendatasets) (2.23.0)\n",
            "Requirement already satisfied: six>=1.10 in /usr/local/lib/python3.7/dist-packages (from kaggle->opendatasets) (1.15.0)\n",
            "Requirement already satisfied: python-slugify in /usr/local/lib/python3.7/dist-packages (from kaggle->opendatasets) (6.1.2)\n",
            "Requirement already satisfied: python-dateutil in /usr/local/lib/python3.7/dist-packages (from kaggle->opendatasets) (2.8.2)\n",
            "Requirement already satisfied: certifi in /usr/local/lib/python3.7/dist-packages (from kaggle->opendatasets) (2021.10.8)\n",
            "Requirement already satisfied: text-unidecode>=1.3 in /usr/local/lib/python3.7/dist-packages (from python-slugify->kaggle->opendatasets) (1.3)\n",
            "Requirement already satisfied: chardet<4,>=3.0.2 in /usr/local/lib/python3.7/dist-packages (from requests->kaggle->opendatasets) (3.0.4)\n",
            "Requirement already satisfied: idna<3,>=2.5 in /usr/local/lib/python3.7/dist-packages (from requests->kaggle->opendatasets) (2.10)\n",
            "Installing collected packages: opendatasets\n",
            "Successfully installed opendatasets-0.1.22\n"
          ]
        }
      ]
    },
    {
      "cell_type": "code",
      "source": [
        "import opendatasets as od"
      ],
      "metadata": {
        "id": "DU0Y9T_y8y2P"
      },
      "execution_count": 3,
      "outputs": []
    },
    {
      "cell_type": "code",
      "source": [
        "od.download(\"https://www.kaggle.com/datasets/ahmedhamada0/brain-tumor-detection\")"
      ],
      "metadata": {
        "colab": {
          "base_uri": "https://localhost:8080/"
        },
        "id": "jPfz7GZMAPD7",
        "outputId": "cd981d45-1a8a-48f1-92c3-6d9061afadad"
      },
      "execution_count": 4,
      "outputs": [
        {
          "output_type": "stream",
          "name": "stdout",
          "text": [
            "Please provide your Kaggle credentials to download this dataset. Learn more: http://bit.ly/kaggle-creds\n",
            "Your Kaggle username: yesh25\n",
            "Your Kaggle Key: ··········\n",
            "Downloading brain-tumor-detection.zip to ./brain-tumor-detection\n"
          ]
        },
        {
          "output_type": "stream",
          "name": "stderr",
          "text": [
            "100%|██████████| 84.0M/84.0M [00:00<00:00, 157MB/s]\n"
          ]
        },
        {
          "output_type": "stream",
          "name": "stdout",
          "text": [
            "\n"
          ]
        }
      ]
    },
    {
      "cell_type": "code",
      "source": [
        "import numpy as np\n",
        "import matplotlib.pyplot as plt\n",
        "import os\n",
        "import math\n",
        "import shutil\n",
        "import glob\n",
        " "
      ],
      "metadata": {
        "id": "AjgK83PlAXGg"
      },
      "execution_count": 5,
      "outputs": []
    },
    {
      "cell_type": "code",
      "source": [
        ""
      ],
      "metadata": {
        "id": "6bdklnY4BQFN"
      },
      "execution_count": 5,
      "outputs": []
    },
    {
      "cell_type": "code",
      "source": [
        "# count number of images\n",
        "ROOT_DIR = \"/content/brain-tumor-detection\"\n",
        "number_of_images = {}\n",
        "\n",
        "for dir in os.listdir(ROOT_DIR):\n",
        "  number_of_images[dir] = len(os.listdir(os.path.join(ROOT_DIR, dir)))\n",
        "\n",
        "number_of_images.items() "
      ],
      "metadata": {
        "colab": {
          "base_uri": "https://localhost:8080/"
        },
        "id": "rZ0P_W-523aw",
        "outputId": "9ea38a0e-3191-41c7-9299-c5419595d4d3"
      },
      "execution_count": 6,
      "outputs": [
        {
          "output_type": "execute_result",
          "data": {
            "text/plain": [
              "dict_items([('yes', 1500), ('pred', 60), ('no', 1500), ('Br35H-Mask-RCNN', 4)])"
            ]
          },
          "metadata": {},
          "execution_count": 6
        }
      ]
    },
    {
      "cell_type": "code",
      "source": [
        ""
      ],
      "metadata": {
        "id": "MX3ysXmUBaSQ"
      },
      "execution_count": 6,
      "outputs": []
    },
    {
      "cell_type": "code",
      "source": [
        "def dataFolder(p, split):\n",
        "  if not os.path.exists(\"./\"+p):\n",
        "    os.mkdir(\"./\"+p)\n",
        "\n",
        "\n",
        "    for dir in os.listdir(ROOT_DIR):\n",
        "      os.makedirs(\"./\"+p+\"/\"+dir)\n",
        "    \n",
        "    \n",
        "      for img in np.random.choice(a = os.listdir(os.path.join(ROOT_DIR, dir)) ,\n",
        "                                size = (math.floor(split*number_of_images[dir])-2), \n",
        "                                replace=False ):\n",
        "          O = os.path.join(ROOT_DIR,dir,img) #path\n",
        "          D = os.path.join(\"./\"+p,dir) \n",
        "          shutil.copy(O,D)\n",
        "          os.remove(O)\n",
        "\n",
        "  else:\n",
        "    print(f\"{p} folder exist\")\n"
      ],
      "metadata": {
        "id": "OUMFTKA_6C08"
      },
      "execution_count": 7,
      "outputs": []
    },
    {
      "cell_type": "code",
      "source": [
        "dataFolder(\"train\",0.7)"
      ],
      "metadata": {
        "id": "oE7XgPitCgEp"
      },
      "execution_count": 8,
      "outputs": []
    },
    {
      "cell_type": "code",
      "source": [
        "dataFolder(\"val\",0.15)"
      ],
      "metadata": {
        "colab": {
          "base_uri": "https://localhost:8080/"
        },
        "id": "Ks7L_IXXCmSb",
        "outputId": "7fdd5230-11f8-4443-fd24-fac0d3e800f9"
      },
      "execution_count": 11,
      "outputs": [
        {
          "output_type": "stream",
          "name": "stdout",
          "text": [
            "val folder exist\n"
          ]
        }
      ]
    },
    {
      "cell_type": "code",
      "source": [
        "dataFolder(\"test\",0.15)"
      ],
      "metadata": {
        "colab": {
          "base_uri": "https://localhost:8080/"
        },
        "id": "NmdcEWCEC-Nx",
        "outputId": "c6be86a8-443b-42d4-d8e9-5b511659f641"
      },
      "execution_count": 12,
      "outputs": [
        {
          "output_type": "stream",
          "name": "stdout",
          "text": [
            "test folder exist\n"
          ]
        }
      ]
    },
    {
      "cell_type": "code",
      "source": [
        "number_of_images = {}\n",
        "\n",
        "for dir in os.listdir(ROOT_DIR):\n",
        "  number_of_images[dir] = len(os.listdir(os.path.join(ROOT_DIR, dir)))\n",
        "\n",
        "number_of_images.items() "
      ],
      "metadata": {
        "colab": {
          "base_uri": "https://localhost:8080/"
        },
        "id": "J_71lqODDE1D",
        "outputId": "ef7d100a-21eb-4555-f69b-c994f187b1bf"
      },
      "execution_count": 13,
      "outputs": [
        {
          "output_type": "execute_result",
          "data": {
            "text/plain": [
              "dict_items([('yes', 229), ('pred', 13), ('no', 229), ('Br35H-Mask-RCNN', 4)])"
            ]
          },
          "metadata": {},
          "execution_count": 13
        }
      ]
    },
    {
      "cell_type": "markdown",
      "source": [
        "MODEL BUILD\n"
      ],
      "metadata": {
        "id": "6vIpCIzfDbpg"
      }
    },
    {
      "cell_type": "code",
      "source": [
        "from keras.layers import Conv2D, MaxPool2D, Dropout, Flatten, Dense, BatchNormalization, GlobalAvgPool2D\n",
        "from keras.models import Sequential\n",
        "from keras.preprocessing.image import ImageDataGenerator \n",
        "import keras"
      ],
      "metadata": {
        "id": "C82c40-ZDT9z"
      },
      "execution_count": 14,
      "outputs": []
    },
    {
      "cell_type": "code",
      "source": [
        "#CNN Model\n",
        "\n",
        "model = Sequential()\n",
        "\n",
        "model.add(Conv2D(filters=16, kernel_size=(3,3),activation= 'relu', input_shape = (224,224,3)))\n",
        "\n",
        "model.add(Conv2D(filters=36, kernel_size=(3,3),activation= 'relu'))\n",
        "model.add(MaxPool2D(pool_size=(2,2)))\n",
        "\n",
        "model.add(Conv2D(filters=64, kernel_size=(3,3),activation= 'relu'))\n",
        "model.add(MaxPool2D(pool_size=(2,2)))\n",
        "\n",
        "model.add(Conv2D(filters=128, kernel_size=(3,3),activation= 'relu'))\n",
        "model.add(MaxPool2D(pool_size=(2,2)))\n",
        "\n",
        "model.add(Dropout(rate= 0.25))\n",
        "\n",
        "model.add(Flatten())\n",
        "model.add(Dense(units=64, activation='relu'))\n",
        "model.add(Dropout(rate= 0.25))\n",
        "model.add(Dense(units= 1, activation= 'sigmoid'))\n",
        "\n",
        "model.summary()"
      ],
      "metadata": {
        "colab": {
          "base_uri": "https://localhost:8080/"
        },
        "id": "tugJbgeADfAy",
        "outputId": "d218c5c0-7c30-4d0f-ca4d-592048af5f37"
      },
      "execution_count": 15,
      "outputs": [
        {
          "output_type": "stream",
          "name": "stdout",
          "text": [
            "Model: \"sequential\"\n",
            "_________________________________________________________________\n",
            " Layer (type)                Output Shape              Param #   \n",
            "=================================================================\n",
            " conv2d (Conv2D)             (None, 222, 222, 16)      448       \n",
            "                                                                 \n",
            " conv2d_1 (Conv2D)           (None, 220, 220, 36)      5220      \n",
            "                                                                 \n",
            " max_pooling2d (MaxPooling2D  (None, 110, 110, 36)     0         \n",
            " )                                                               \n",
            "                                                                 \n",
            " conv2d_2 (Conv2D)           (None, 108, 108, 64)      20800     \n",
            "                                                                 \n",
            " max_pooling2d_1 (MaxPooling  (None, 54, 54, 64)       0         \n",
            " 2D)                                                             \n",
            "                                                                 \n",
            " conv2d_3 (Conv2D)           (None, 52, 52, 128)       73856     \n",
            "                                                                 \n",
            " max_pooling2d_2 (MaxPooling  (None, 26, 26, 128)      0         \n",
            " 2D)                                                             \n",
            "                                                                 \n",
            " dropout (Dropout)           (None, 26, 26, 128)       0         \n",
            "                                                                 \n",
            " flatten (Flatten)           (None, 86528)             0         \n",
            "                                                                 \n",
            " dense (Dense)               (None, 64)                5537856   \n",
            "                                                                 \n",
            " dropout_1 (Dropout)         (None, 64)                0         \n",
            "                                                                 \n",
            " dense_1 (Dense)             (None, 1)                 65        \n",
            "                                                                 \n",
            "=================================================================\n",
            "Total params: 5,638,245\n",
            "Trainable params: 5,638,245\n",
            "Non-trainable params: 0\n",
            "_________________________________________________________________\n"
          ]
        }
      ]
    },
    {
      "cell_type": "code",
      "source": [
        "model.compile(optimizer='adam',loss= keras.losses.binary_crossentropy, metrics=['accuracy'])"
      ],
      "metadata": {
        "id": "MbrQcK7gDiqw"
      },
      "execution_count": 16,
      "outputs": []
    },
    {
      "cell_type": "markdown",
      "source": [
        "Preparing our data using data generator"
      ],
      "metadata": {
        "id": "56UX9ARgDn5I"
      }
    },
    {
      "cell_type": "code",
      "source": [
        "def preprocessingImages1(path):\n",
        "  \"\"\"\n",
        "  imput : path\n",
        "  output : Pre processed images\n",
        "  \"\"\"\n",
        "\n",
        "  image_data = ImageDataGenerator(zoom_range=0.2, shear_range= 0.2, rescale=1/255, horizontal_flip= True)\n",
        "  image = image_data.flow_from_directory(directory = path, target_size=(224,224), batch_size=32, class_mode='binary')\n",
        "\n",
        "  return image"
      ],
      "metadata": {
        "id": "hI0tXj7uDmUN"
      },
      "execution_count": 17,
      "outputs": []
    },
    {
      "cell_type": "code",
      "source": [
        "path  = \"/content/train\"\n",
        "train_data = preprocessingImages1(path)"
      ],
      "metadata": {
        "colab": {
          "base_uri": "https://localhost:8080/"
        },
        "id": "x4pzyDnWDt2Q",
        "outputId": "1d263434-0382-4b0b-9502-b3fae37ed300"
      },
      "execution_count": 18,
      "outputs": [
        {
          "output_type": "stream",
          "name": "stdout",
          "text": [
            "Found 2136 images belonging to 4 classes.\n"
          ]
        }
      ]
    },
    {
      "cell_type": "code",
      "source": [
        "def preprocessingImages2(path):\n",
        "  \"\"\"\n",
        "  imput : path\n",
        "  output : Pre processed images\n",
        "  \"\"\"\n",
        "\n",
        "  image_data = ImageDataGenerator(rescale=1/255, )\n",
        "  image = image_data.flow_from_directory(directory = path, target_size=(224,224), batch_size=32, class_mode='binary')\n",
        "\n",
        "  return image"
      ],
      "metadata": {
        "id": "WxlN5pf6Dxgs"
      },
      "execution_count": 19,
      "outputs": []
    },
    {
      "cell_type": "code",
      "source": [
        "path = \"/content/test\"\n",
        "test_data = preprocessingImages2(path)"
      ],
      "metadata": {
        "colab": {
          "base_uri": "https://localhost:8080/"
        },
        "id": "wdnOhLXnDz_3",
        "outputId": "1353e889-e26e-42ac-c6e1-ace0ff333c93"
      },
      "execution_count": 20,
      "outputs": [
        {
          "output_type": "stream",
          "name": "stdout",
          "text": [
            "Found 453 images belonging to 4 classes.\n"
          ]
        }
      ]
    },
    {
      "cell_type": "code",
      "source": [
        "path = \"/content/val\"\n",
        "val_data = preprocessingImages2(path)"
      ],
      "metadata": {
        "colab": {
          "base_uri": "https://localhost:8080/"
        },
        "id": "BRO16jVpD2gE",
        "outputId": "f67ab004-eef7-4f6e-d1f2-a26edb6f2425"
      },
      "execution_count": 21,
      "outputs": [
        {
          "output_type": "stream",
          "name": "stdout",
          "text": [
            "Found 0 images belonging to 1 classes.\n"
          ]
        }
      ]
    },
    {
      "cell_type": "code",
      "source": [
        "# Early stopping and model check point\n",
        "\n",
        "from keras.callbacks import ModelCheckpoint, EarlyStopping\n",
        "\n",
        "# early stopping\n",
        "\n",
        "es = EarlyStopping(monitor=\"val_accuracy\", min_delta=0.01, patience=5, verbose=1, mode='auto')\n",
        "\n",
        "# model check point\n",
        "\n",
        "mc = ModelCheckpoint(monitor=\"val_accuracy\", filepath=\"./bestmodel.h5\", verbose=1, save_best_only=True, mode='auto')\n",
        "\n",
        "cd = [es,mc]\n"
      ],
      "metadata": {
        "id": "AaBIRvacEDgR"
      },
      "execution_count": 22,
      "outputs": []
    },
    {
      "cell_type": "code",
      "source": [
        "hs = model.fit_generator(generator= train_data, \n",
        "                         steps_per_epoch=8, \n",
        "                         epochs= 30, \n",
        "                         verbose= 1, \n",
        "                         validation_data=val_data, \n",
        "                         validation_steps= 16, \n",
        "                         callbacks= cd)"
      ],
      "metadata": {
        "colab": {
          "base_uri": "https://localhost:8080/"
        },
        "id": "lluO1m61EGPw",
        "outputId": "bada50c8-da29-40c5-b271-d01a0b38d0be"
      },
      "execution_count": 23,
      "outputs": [
        {
          "output_type": "stream",
          "name": "stdout",
          "text": [
            "Epoch 1/30\n",
            "8/8 [==============================] - ETA: 0s - loss: -365.0779 - accuracy: 0.4531WARNING:tensorflow:Early stopping conditioned on metric `val_accuracy` which is not available. Available metrics are: loss,accuracy\n",
            "WARNING:tensorflow:Can save best model only with val_accuracy available, skipping.\n",
            "8/8 [==============================] - 16s 463ms/step - loss: -365.0779 - accuracy: 0.4531\n",
            "Epoch 2/30\n",
            "8/8 [==============================] - ETA: 0s - loss: -16387.8008 - accuracy: 0.4336WARNING:tensorflow:Early stopping conditioned on metric `val_accuracy` which is not available. Available metrics are: loss,accuracy\n",
            "WARNING:tensorflow:Can save best model only with val_accuracy available, skipping.\n",
            "8/8 [==============================] - 4s 500ms/step - loss: -16387.8008 - accuracy: 0.4336\n",
            "Epoch 3/30\n",
            "8/8 [==============================] - ETA: 0s - loss: -204433.9844 - accuracy: 0.4492WARNING:tensorflow:Early stopping conditioned on metric `val_accuracy` which is not available. Available metrics are: loss,accuracy\n",
            "WARNING:tensorflow:Can save best model only with val_accuracy available, skipping.\n",
            "8/8 [==============================] - 4s 493ms/step - loss: -204433.9844 - accuracy: 0.4492\n",
            "Epoch 4/30\n",
            "8/8 [==============================] - ETA: 0s - loss: -1324171.3750 - accuracy: 0.4922WARNING:tensorflow:Early stopping conditioned on metric `val_accuracy` which is not available. Available metrics are: loss,accuracy\n",
            "WARNING:tensorflow:Can save best model only with val_accuracy available, skipping.\n",
            "8/8 [==============================] - 4s 501ms/step - loss: -1324171.3750 - accuracy: 0.4922\n",
            "Epoch 5/30\n",
            "8/8 [==============================] - ETA: 0s - loss: -7485507.0000 - accuracy: 0.4844WARNING:tensorflow:Early stopping conditioned on metric `val_accuracy` which is not available. Available metrics are: loss,accuracy\n",
            "WARNING:tensorflow:Can save best model only with val_accuracy available, skipping.\n",
            "8/8 [==============================] - 4s 508ms/step - loss: -7485507.0000 - accuracy: 0.4844\n",
            "Epoch 6/30\n",
            "8/8 [==============================] - ETA: 0s - loss: -31874152.0000 - accuracy: 0.4492WARNING:tensorflow:Early stopping conditioned on metric `val_accuracy` which is not available. Available metrics are: loss,accuracy\n",
            "WARNING:tensorflow:Can save best model only with val_accuracy available, skipping.\n",
            "8/8 [==============================] - 4s 508ms/step - loss: -31874152.0000 - accuracy: 0.4492\n",
            "Epoch 7/30\n",
            "8/8 [==============================] - ETA: 0s - loss: -106135488.0000 - accuracy: 0.4688WARNING:tensorflow:Early stopping conditioned on metric `val_accuracy` which is not available. Available metrics are: loss,accuracy\n",
            "WARNING:tensorflow:Can save best model only with val_accuracy available, skipping.\n",
            "8/8 [==============================] - 4s 500ms/step - loss: -106135488.0000 - accuracy: 0.4688\n",
            "Epoch 8/30\n",
            "8/8 [==============================] - ETA: 0s - loss: -341099456.0000 - accuracy: 0.4648WARNING:tensorflow:Early stopping conditioned on metric `val_accuracy` which is not available. Available metrics are: loss,accuracy\n",
            "WARNING:tensorflow:Can save best model only with val_accuracy available, skipping.\n",
            "8/8 [==============================] - 4s 503ms/step - loss: -341099456.0000 - accuracy: 0.4648\n",
            "Epoch 9/30\n",
            "8/8 [==============================] - ETA: 0s - loss: -813153088.0000 - accuracy: 0.5195WARNING:tensorflow:Early stopping conditioned on metric `val_accuracy` which is not available. Available metrics are: loss,accuracy\n",
            "WARNING:tensorflow:Can save best model only with val_accuracy available, skipping.\n",
            "8/8 [==============================] - 4s 491ms/step - loss: -813153088.0000 - accuracy: 0.5195\n",
            "Epoch 10/30\n",
            "8/8 [==============================] - ETA: 0s - loss: -2011440896.0000 - accuracy: 0.4766WARNING:tensorflow:Early stopping conditioned on metric `val_accuracy` which is not available. Available metrics are: loss,accuracy\n",
            "WARNING:tensorflow:Can save best model only with val_accuracy available, skipping.\n",
            "8/8 [==============================] - 4s 508ms/step - loss: -2011440896.0000 - accuracy: 0.4766\n",
            "Epoch 11/30\n",
            "8/8 [==============================] - ETA: 0s - loss: -4416733184.0000 - accuracy: 0.5039WARNING:tensorflow:Early stopping conditioned on metric `val_accuracy` which is not available. Available metrics are: loss,accuracy\n",
            "WARNING:tensorflow:Can save best model only with val_accuracy available, skipping.\n",
            "8/8 [==============================] - 4s 507ms/step - loss: -4416733184.0000 - accuracy: 0.5039\n",
            "Epoch 12/30\n",
            "8/8 [==============================] - ETA: 0s - loss: -8851230720.0000 - accuracy: 0.5121WARNING:tensorflow:Early stopping conditioned on metric `val_accuracy` which is not available. Available metrics are: loss,accuracy\n",
            "WARNING:tensorflow:Can save best model only with val_accuracy available, skipping.\n",
            "8/8 [==============================] - 5s 577ms/step - loss: -8851230720.0000 - accuracy: 0.5121\n",
            "Epoch 13/30\n",
            "8/8 [==============================] - ETA: 0s - loss: -19193286656.0000 - accuracy: 0.4453WARNING:tensorflow:Early stopping conditioned on metric `val_accuracy` which is not available. Available metrics are: loss,accuracy\n",
            "WARNING:tensorflow:Can save best model only with val_accuracy available, skipping.\n",
            "8/8 [==============================] - 4s 508ms/step - loss: -19193286656.0000 - accuracy: 0.4453\n",
            "Epoch 14/30\n",
            "8/8 [==============================] - ETA: 0s - loss: -33997758464.0000 - accuracy: 0.4922WARNING:tensorflow:Early stopping conditioned on metric `val_accuracy` which is not available. Available metrics are: loss,accuracy\n",
            "WARNING:tensorflow:Can save best model only with val_accuracy available, skipping.\n",
            "8/8 [==============================] - 4s 501ms/step - loss: -33997758464.0000 - accuracy: 0.4922\n",
            "Epoch 15/30\n",
            "8/8 [==============================] - ETA: 0s - loss: -56078307328.0000 - accuracy: 0.4883WARNING:tensorflow:Early stopping conditioned on metric `val_accuracy` which is not available. Available metrics are: loss,accuracy\n",
            "WARNING:tensorflow:Can save best model only with val_accuracy available, skipping.\n",
            "8/8 [==============================] - 4s 498ms/step - loss: -56078307328.0000 - accuracy: 0.4883\n",
            "Epoch 16/30\n",
            "8/8 [==============================] - ETA: 0s - loss: -89230753792.0000 - accuracy: 0.5121WARNING:tensorflow:Early stopping conditioned on metric `val_accuracy` which is not available. Available metrics are: loss,accuracy\n",
            "WARNING:tensorflow:Can save best model only with val_accuracy available, skipping.\n",
            "8/8 [==============================] - 4s 483ms/step - loss: -89230753792.0000 - accuracy: 0.5121\n",
            "Epoch 17/30\n",
            "8/8 [==============================] - ETA: 0s - loss: -155561754624.0000 - accuracy: 0.4961WARNING:tensorflow:Early stopping conditioned on metric `val_accuracy` which is not available. Available metrics are: loss,accuracy\n",
            "WARNING:tensorflow:Can save best model only with val_accuracy available, skipping.\n",
            "8/8 [==============================] - 4s 503ms/step - loss: -155561754624.0000 - accuracy: 0.4961\n",
            "Epoch 18/30\n",
            "8/8 [==============================] - ETA: 0s - loss: -284524871680.0000 - accuracy: 0.4531WARNING:tensorflow:Early stopping conditioned on metric `val_accuracy` which is not available. Available metrics are: loss,accuracy\n",
            "WARNING:tensorflow:Can save best model only with val_accuracy available, skipping.\n",
            "8/8 [==============================] - 4s 500ms/step - loss: -284524871680.0000 - accuracy: 0.4531\n",
            "Epoch 19/30\n",
            "8/8 [==============================] - ETA: 0s - loss: -366791393280.0000 - accuracy: 0.5312WARNING:tensorflow:Early stopping conditioned on metric `val_accuracy` which is not available. Available metrics are: loss,accuracy\n",
            "WARNING:tensorflow:Can save best model only with val_accuracy available, skipping.\n",
            "8/8 [==============================] - 4s 502ms/step - loss: -366791393280.0000 - accuracy: 0.5312\n",
            "Epoch 20/30\n",
            "8/8 [==============================] - ETA: 0s - loss: -652124618752.0000 - accuracy: 0.4766WARNING:tensorflow:Early stopping conditioned on metric `val_accuracy` which is not available. Available metrics are: loss,accuracy\n",
            "WARNING:tensorflow:Can save best model only with val_accuracy available, skipping.\n",
            "8/8 [==============================] - 4s 508ms/step - loss: -652124618752.0000 - accuracy: 0.4766\n",
            "Epoch 21/30\n",
            "8/8 [==============================] - ETA: 0s - loss: -981174845440.0000 - accuracy: 0.4637WARNING:tensorflow:Early stopping conditioned on metric `val_accuracy` which is not available. Available metrics are: loss,accuracy\n",
            "WARNING:tensorflow:Can save best model only with val_accuracy available, skipping.\n",
            "8/8 [==============================] - 4s 501ms/step - loss: -981174845440.0000 - accuracy: 0.4637\n",
            "Epoch 22/30\n",
            "8/8 [==============================] - ETA: 0s - loss: -1580068896768.0000 - accuracy: 0.4113WARNING:tensorflow:Early stopping conditioned on metric `val_accuracy` which is not available. Available metrics are: loss,accuracy\n",
            "WARNING:tensorflow:Can save best model only with val_accuracy available, skipping.\n",
            "8/8 [==============================] - 4s 497ms/step - loss: -1580068896768.0000 - accuracy: 0.4113\n",
            "Epoch 23/30\n",
            "8/8 [==============================] - ETA: 0s - loss: -1874741821440.0000 - accuracy: 0.4844WARNING:tensorflow:Early stopping conditioned on metric `val_accuracy` which is not available. Available metrics are: loss,accuracy\n",
            "WARNING:tensorflow:Can save best model only with val_accuracy available, skipping.\n",
            "8/8 [==============================] - 4s 500ms/step - loss: -1874741821440.0000 - accuracy: 0.4844\n",
            "Epoch 24/30\n",
            "8/8 [==============================] - ETA: 0s - loss: -3250678398976.0000 - accuracy: 0.3984WARNING:tensorflow:Early stopping conditioned on metric `val_accuracy` which is not available. Available metrics are: loss,accuracy\n",
            "WARNING:tensorflow:Can save best model only with val_accuracy available, skipping.\n",
            "8/8 [==============================] - 4s 515ms/step - loss: -3250678398976.0000 - accuracy: 0.3984\n",
            "Epoch 25/30\n",
            "8/8 [==============================] - ETA: 0s - loss: -3399202897920.0000 - accuracy: 0.5156WARNING:tensorflow:Early stopping conditioned on metric `val_accuracy` which is not available. Available metrics are: loss,accuracy\n",
            "WARNING:tensorflow:Can save best model only with val_accuracy available, skipping.\n",
            "8/8 [==============================] - 4s 505ms/step - loss: -3399202897920.0000 - accuracy: 0.5156\n",
            "Epoch 26/30\n",
            "8/8 [==============================] - ETA: 0s - loss: -5216602685440.0000 - accuracy: 0.4637WARNING:tensorflow:Early stopping conditioned on metric `val_accuracy` which is not available. Available metrics are: loss,accuracy\n",
            "WARNING:tensorflow:Can save best model only with val_accuracy available, skipping.\n",
            "8/8 [==============================] - 4s 492ms/step - loss: -5216602685440.0000 - accuracy: 0.4637\n",
            "Epoch 27/30\n",
            "8/8 [==============================] - ETA: 0s - loss: -6057034776576.0000 - accuracy: 0.5234WARNING:tensorflow:Early stopping conditioned on metric `val_accuracy` which is not available. Available metrics are: loss,accuracy\n",
            "WARNING:tensorflow:Can save best model only with val_accuracy available, skipping.\n",
            "8/8 [==============================] - 4s 503ms/step - loss: -6057034776576.0000 - accuracy: 0.5234\n",
            "Epoch 28/30\n",
            "8/8 [==============================] - ETA: 0s - loss: -9469576609792.0000 - accuracy: 0.4570WARNING:tensorflow:Early stopping conditioned on metric `val_accuracy` which is not available. Available metrics are: loss,accuracy\n",
            "WARNING:tensorflow:Can save best model only with val_accuracy available, skipping.\n",
            "8/8 [==============================] - 4s 510ms/step - loss: -9469576609792.0000 - accuracy: 0.4570\n",
            "Epoch 29/30\n",
            "8/8 [==============================] - ETA: 0s - loss: -12556966035456.0000 - accuracy: 0.4395WARNING:tensorflow:Early stopping conditioned on metric `val_accuracy` which is not available. Available metrics are: loss,accuracy\n",
            "WARNING:tensorflow:Can save best model only with val_accuracy available, skipping.\n",
            "8/8 [==============================] - 4s 511ms/step - loss: -12556966035456.0000 - accuracy: 0.4395\n",
            "Epoch 30/30\n",
            "8/8 [==============================] - ETA: 0s - loss: -15402818076672.0000 - accuracy: 0.4805WARNING:tensorflow:Early stopping conditioned on metric `val_accuracy` which is not available. Available metrics are: loss,accuracy\n",
            "WARNING:tensorflow:Can save best model only with val_accuracy available, skipping.\n",
            "8/8 [==============================] - 4s 509ms/step - loss: -15402818076672.0000 - accuracy: 0.4805\n"
          ]
        }
      ]
    },
    {
      "cell_type": "code",
      "source": [
        "# model graphical interpretation\n",
        "\n",
        "h = hs.history\n",
        "h.keys()"
      ],
      "metadata": {
        "colab": {
          "base_uri": "https://localhost:8080/"
        },
        "id": "_4DveAaREIZC",
        "outputId": "96688dc4-a7a4-4833-ab03-115e850e26e3"
      },
      "execution_count": 24,
      "outputs": [
        {
          "output_type": "execute_result",
          "data": {
            "text/plain": [
              "dict_keys(['loss', 'accuracy'])"
            ]
          },
          "metadata": {},
          "execution_count": 24
        }
      ]
    },
    {
      "cell_type": "code",
      "source": [
        "import matplotlib.pyplot as plt\n",
        "plt.plot(h['accuracy'])\n",
        "plt.plot(h['loss'], c=\"red\")\n",
        "\n",
        "plt.title(\"acc vs val-acc\")\n",
        "plt.show()"
      ],
      "metadata": {
        "colab": {
          "base_uri": "https://localhost:8080/",
          "height": 281
        },
        "id": "padHozbgFzd6",
        "outputId": "d027ba26-fd01-402a-c8ff-5bf5b1d239ef"
      },
      "execution_count": 26,
      "outputs": [
        {
          "output_type": "display_data",
          "data": {
            "text/plain": [
              "<Figure size 432x288 with 1 Axes>"
            ],
            "image/png": "[encoded data removed]"
          },
          "metadata": {
            "needs_background": "light"
          }
        }
      ]
    },
    {
      "cell_type": "code",
      "source": [
        ""
      ],
      "metadata": {
        "id": "yvNiNbPMF2L8"
      },
      "execution_count": null,
      "outputs": []
    }
  ]
}